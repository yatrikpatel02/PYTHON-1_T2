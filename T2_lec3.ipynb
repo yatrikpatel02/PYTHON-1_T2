{
 "cells": [
  {
   "cell_type": "code",
   "execution_count": 1,
   "metadata": {},
   "outputs": [
    {
     "name": "stdout",
     "output_type": "stream",
     "text": [
      "4\n",
      "0\n",
      "3\n",
      "12\n",
      "20\n"
     ]
    }
   ],
   "source": [
    "s=\"abcabcdefxyzabcxyzababc\"\n",
    "sub=\"abc\"\n",
    "x=s.count(sub)\n",
    "print(x)\n",
    "b=0\n",
    "begin=0\n",
    "end=len(s)\n",
    "while b!=-1:\n",
    "    b=s.find(sub,begin,end)\n",
    "    if b==-1:\n",
    "        break\n",
    "    print(b)\n",
    "    begin=b+1\n"
   ]
  },
  {
   "cell_type": "code",
   "execution_count": 19,
   "metadata": {},
   "outputs": [
    {
     "name": "stdout",
     "output_type": "stream",
     "text": [
      "aaaabbbcc\n"
     ]
    }
   ],
   "source": [
    "s=\"a4b3c2\"\n",
    "a=0\n",
    "b=1\n",
    "s1=\"\"\n",
    "for i in range(len(s)//2):\n",
    "    s1+=s[a]*(int(s[b]))\n",
    "    a+=2\n",
    "    b+=2\n",
    "print(s1)    "
   ]
  },
  {
   "cell_type": "code",
   "execution_count": 14,
   "metadata": {},
   "outputs": [
    {
     "name": "stdout",
     "output_type": "stream",
     "text": [
      "Enter password: Tehas@123#der\n",
      "Enter valid password!\n"
     ]
    }
   ],
   "source": [
    "#wap to check the validity of a password\n",
    "#primary condition - 1) minimum 8 characters  2) the alphabet should be between [a-z] 3) atleast one uppercase letter berween(A-Z) 4) atleast one digit between[0-9] 5)Atleast one character from [_,$,@]\n",
    "password=input(\"Enter password: \")\n",
    "check1=False\n",
    "checksmall=False\n",
    "checkcap=False\n",
    "checknum=False\n",
    "checkspec=False\n",
    "checkelse=0\n",
    "if len(password)>=8:\n",
    "    c=0\n",
    "    check1=True\n",
    "    for i in range(len(password)):\n",
    "        if password[i].isalpha():\n",
    "            checksmall=True\n",
    "            c+=1\n",
    "        if password[i].isdigit():\n",
    "            checknum=True\n",
    "            c+=1\n",
    "        if password[i].isupper():\n",
    "            checkcap=True\n",
    "            c+=1\n",
    "        if password[i]==\"@\" or password[i]==\"_\" or password[i]==\"$\":\n",
    "            checkspec=True\n",
    "            c+=1\n",
    "    if c==len(password):\n",
    "        checkelse=0\n",
    "    else:\n",
    "        checkelse=1\n",
    "    if checksmall and checknum and checkspec and checkcap and checkelse:\n",
    "        print(\"your password is : \",password)\n",
    "    else:\n",
    "        print(\"Enter valid password!\")\n",
    "        \n",
    "else:\n",
    "    print(\"valid password\")"
   ]
  },
  {
   "cell_type": "code",
   "execution_count": 7,
   "metadata": {},
   "outputs": [
    {
     "name": "stdout",
     "output_type": "stream",
     "text": [
      "Enter digits: 12345\n",
      "Enter no of shifts: 2\n",
      "34512\n"
     ]
    }
   ],
   "source": [
    "#wap to shift the decimal digits n places to the left wrapping the extra digits around if shift is greater than the no of digits of n and reverse the string\n",
    "n=input(\"Enter digits: \")\n",
    "x=int(input(\"Enter no of shifts: \"))\n",
    "if x>=len(n):\n",
    "    s=n[::-1]\n",
    "    print(s)\n",
    "else:\n",
    "    s1=n[:x]\n",
    "    s2=n[x:]+s1\n",
    "    print(s2)"
   ]
  },
  {
   "cell_type": "code",
   "execution_count": null,
   "metadata": {},
   "outputs": [],
   "source": []
  }
 ],
 "metadata": {
  "kernelspec": {
   "display_name": "Python 3",
   "language": "python",
   "name": "python3"
  },
  "language_info": {
   "codemirror_mode": {
    "name": "ipython",
    "version": 3
   },
   "file_extension": ".py",
   "mimetype": "text/x-python",
   "name": "python",
   "nbconvert_exporter": "python",
   "pygments_lexer": "ipython3",
   "version": "3.8.5"
  }
 },
 "nbformat": 4,
 "nbformat_minor": 4
}
