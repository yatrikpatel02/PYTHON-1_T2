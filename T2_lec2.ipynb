{
 "cells": [
  {
   "cell_type": "markdown",
   "metadata": {},
   "source": [
    "# find()"
   ]
  },
  {
   "cell_type": "code",
   "execution_count": 1,
   "metadata": {},
   "outputs": [
    {
     "name": "stdout",
     "output_type": "stream",
     "text": [
      "2\n",
      "17\n",
      "-1\n",
      "9\n"
     ]
    }
   ],
   "source": [
    "#find()\n",
    "# returns imdex of first occurance of the given substring\n",
    "# if it is not available then we will get -1\n",
    "# syntax - s.find(substring)\n",
    "s=\"Learning Python Is Very Easy\"\n",
    "print(s.find(\"a\"))\n",
    "print(s.find(\"s\"))\n",
    "print(s.find(\"x\"))\n",
    "print(s.find(\"Python\"))\n"
   ]
  },
  {
   "cell_type": "code",
   "execution_count": 3,
   "metadata": {},
   "outputs": [
    {
     "name": "stdout",
     "output_type": "stream",
     "text": [
      "10\n"
     ]
    }
   ],
   "source": [
    "# s.find(substring,begin,end)\n",
    "s=\"Learning Python Is Very Easy\"\n",
    "print(s.find(\"y\",5,17))"
   ]
  },
  {
   "cell_type": "markdown",
   "metadata": {},
   "source": [
    "# count()"
   ]
  },
  {
   "cell_type": "code",
   "execution_count": 9,
   "metadata": {
    "scrolled": false
   },
   "outputs": [
    {
     "name": "stdout",
     "output_type": "stream",
     "text": [
      "2\n",
      "2\n",
      "0\n",
      "1\n"
     ]
    }
   ],
   "source": [
    "# count()\n",
    "s=\"abcdefhijgnsqjqa dasabc\"\n",
    "print(s.count(\"c\"))\n",
    "print(s.count(\"abc\"))\n",
    "print(s.count(\"p\"))\n",
    "print(s.count(\" \"))\n"
   ]
  },
  {
   "cell_type": "markdown",
   "metadata": {},
   "source": [
    "# replace()"
   ]
  },
  {
   "cell_type": "code",
   "execution_count": 13,
   "metadata": {},
   "outputs": [
    {
     "name": "stdout",
     "output_type": "stream",
     "text": [
      "Learning Python Is Very Easy\n",
      "Learning Java Is Very Easy\n"
     ]
    }
   ],
   "source": [
    "# replace()\n",
    "# to replace old string with new string\n",
    "# syntax - s.replace(old string,new string)\n",
    "s=\"Learning Python Is Very Easy\"\n",
    "x=s.replace(\"Java\",\"Python\")\n",
    "y=s.replace(\"Python\",\"Java\")\n",
    "print(x)\n",
    "print(y)"
   ]
  },
  {
   "cell_type": "markdown",
   "metadata": {},
   "source": [
    "# split()"
   ]
  },
  {
   "cell_type": "code",
   "execution_count": 14,
   "metadata": {},
   "outputs": [
    {
     "name": "stdout",
     "output_type": "stream",
     "text": [
      "['Hello', 'world']\n"
     ]
    }
   ],
   "source": [
    "# split(separator) -> we can split the given string according to specified separator by using split() method\n",
    "# default separator is space\n",
    "# the return type of split() method is list\n",
    "\n",
    "s=\"Hello   world\"\n",
    "l=s.split()\n",
    "print(l)"
   ]
  },
  {
   "cell_type": "code",
   "execution_count": 15,
   "metadata": {},
   "outputs": [
    {
     "name": "stdout",
     "output_type": "stream",
     "text": [
      "['29', '10', '2025']\n",
      "['He', '', 'o wor', 'd']\n",
      "['abc', '']\n"
     ]
    }
   ],
   "source": [
    "s=\"29-10-2025\"\n",
    "l=s.split(\"-\")\n",
    "print(l)\n",
    "\n",
    "s=\"Hello world\"\n",
    "l=s.split(\"l\")\n",
    "print(l)\n",
    "\n",
    "s=\"abcd\"\n",
    "l=s.split(\"d\")\n",
    "print(l)\n"
   ]
  },
  {
   "cell_type": "markdown",
   "metadata": {},
   "source": [
    "# translate() with maketrans() function"
   ]
  },
  {
   "cell_type": "code",
   "execution_count": 16,
   "metadata": {},
   "outputs": [
    {
     "name": "stdout",
     "output_type": "stream",
     "text": [
      "!\"#$%&'()*+,-./:;<=>?@[\\]^_`{|}~\n"
     ]
    }
   ],
   "source": [
    "import string\n",
    "print(string.punctuation)\n"
   ]
  },
  {
   "cell_type": "code",
   "execution_count": 23,
   "metadata": {
    "scrolled": true
   },
   "outputs": [
    {
     "name": "stdout",
     "output_type": "stream",
     "text": [
      "{33: None, 34: None, 35: None, 36: None, 37: None, 38: None, 39: None, 40: None, 41: None, 42: None, 43: None, 44: None, 45: None, 46: None, 47: None, 58: None, 59: None, 60: None, 61: None, 62: None, 63: None, 64: None, 91: None, 92: None, 93: None, 94: None, 95: None, 96: None, 123: None, 124: None, 125: None, 126: None}\n",
      "python\n"
     ]
    }
   ],
   "source": [
    "# maketrans()\n",
    "# make translation table\n",
    "# mapping of character to their replacement or to none for deletion\n",
    "\n",
    "# syntax - maketrans(from_chars,to_chars,deletee_chars)\n",
    "\n",
    "import string\n",
    "s=\"py$@th!!on\"\n",
    "l=s.maketrans(\"\",\"\",string.punctuation)\n",
    "print(l)\n",
    "x=s.translate(l)\n",
    "print(x)"
   ]
  },
  {
   "cell_type": "code",
   "execution_count": 24,
   "metadata": {},
   "outputs": [
    {
     "name": "stdout",
     "output_type": "stream",
     "text": [
      "{110: 109, 64: None, 36: None}\n",
      "pyth!!om\n"
     ]
    }
   ],
   "source": [
    "import string\n",
    "s=\"py$@th!!on\"\n",
    "l=s.maketrans(\"n\",\"m\",\"@$\")\n",
    "print(l)\n",
    "x=s.translate(l)\n",
    "print(x)"
   ]
  },
  {
   "cell_type": "code",
   "execution_count": 25,
   "metadata": {},
   "outputs": [
    {
     "name": "stdout",
     "output_type": "stream",
     "text": [
      "hello Joe!!\n"
     ]
    }
   ],
   "source": [
    "t=\"hello Sam!!\"\n",
    "x=\"mSa\"\n",
    "y=\"eJo\"\n",
    "table=t.maketrans(x,y)\n",
    "print(t.translate(table))"
   ]
  },
  {
   "cell_type": "code",
   "execution_count": 33,
   "metadata": {},
   "outputs": [
    {
     "name": "stdout",
     "output_type": "stream",
     "text": [
      "##John is #developer # musician##\n"
     ]
    }
   ],
   "source": [
    "#wap to replace special symbol with # in the following space\n",
    "import string\n",
    "t=\"/*John is @developer & musician!!\"\n",
    "x=string.punctuation\n",
    "table=t.maketrans(x,y*32)\n",
    "print(t.translate(table))        "
   ]
  },
  {
   "cell_type": "code",
   "execution_count": 35,
   "metadata": {},
   "outputs": [
    {
     "name": "stdout",
     "output_type": "stream",
     "text": [
      "##John is #developer # musician##\n"
     ]
    }
   ],
   "source": [
    "import string\n",
    "t=\"/*John is @developer & musician!!\"\n",
    "for i in string.punctuation:\n",
    "    t=t.replace(i,\"#\")\n",
    "print(t)    "
   ]
  },
  {
   "cell_type": "code",
   "execution_count": 39,
   "metadata": {},
   "outputs": [
    {
     "name": "stdout",
     "output_type": "stream",
     "text": [
      "Enter String: hello world\n",
      "hello world\n",
      "Enter index: 2\n",
      "helo world\n"
     ]
    }
   ],
   "source": [
    "#wap to remove ith character from the string\n",
    "s=input(\"Enter String: \")\n",
    "print(s)\n",
    "i=int(input(\"Enter index: \"))\n",
    "val=s.replace(s[i],\"\",1)\n",
    "print(val)"
   ]
  },
  {
   "cell_type": "code",
   "execution_count": 1,
   "metadata": {},
   "outputs": [
    {
     "name": "stdout",
     "output_type": "stream",
     "text": [
      "Enter String: USA usa Usa USa\n",
      "usa usa usa usa\n",
      "Enter substring: usa\n",
      "4\n"
     ]
    }
   ],
   "source": [
    "#wap to find the count of all occurunces of a substring in a given string by ignoring the case\n",
    "a=input(\"Enter String: \").lower()\n",
    "print(a)\n",
    "\n",
    "b=input(\"Enter substring: \").lower()\n",
    "print(a.count(b))"
   ]
  },
  {
   "cell_type": "code",
   "execution_count": 8,
   "metadata": {},
   "outputs": [
    {
     "name": "stdout",
     "output_type": "stream",
     "text": [
      "0\n",
      "4\n",
      "7\n",
      "9\n",
      "14\n",
      "17\n"
     ]
    }
   ],
   "source": [
    "#wap to display all positions of substring in the given string\n",
    "s=\"abcdadvanabfchabcab\"\n",
    "sub=\"a\"\n",
    "x=s.count(sub)\n",
    "c=0\n",
    "for i in s:\n",
    "    if i==sub:\n",
    "        print(c)\n",
    "    c+=1"
   ]
  },
  {
   "cell_type": "code",
   "execution_count": 13,
   "metadata": {},
   "outputs": [
    {
     "name": "stdout",
     "output_type": "stream",
     "text": [
      "a1b2c3\n"
     ]
    }
   ],
   "source": [
    "#wap to merge characters of two strings into a single string by taking character alternatively\n",
    "x=\"abc\"\n",
    "y=\"123\"\n",
    "z=\"\"\n",
    "for i in range(len(x)):\n",
    "    z+=x[i]+y[i]\n",
    "print(z)    "
   ]
  },
  {
   "cell_type": "code",
   "execution_count": null,
   "metadata": {},
   "outputs": [],
   "source": []
  }
 ],
 "metadata": {
  "kernelspec": {
   "display_name": "Python 3",
   "language": "python",
   "name": "python3"
  },
  "language_info": {
   "codemirror_mode": {
    "name": "ipython",
    "version": 3
   },
   "file_extension": ".py",
   "mimetype": "text/x-python",
   "name": "python",
   "nbconvert_exporter": "python",
   "pygments_lexer": "ipython3",
   "version": "3.8.5"
  }
 },
 "nbformat": 4,
 "nbformat_minor": 4
}
